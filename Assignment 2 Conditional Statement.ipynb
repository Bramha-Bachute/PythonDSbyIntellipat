{
 "cells": [
  {
   "cell_type": "code",
   "execution_count": 5,
   "id": "0a4c2ecb",
   "metadata": {},
   "outputs": [
    {
     "name": "stdout",
     "output_type": "stream",
     "text": [
      "Enter Value of a: 10\n",
      "Enter Value of b: 5\n",
      "Enter Value of c: 7\n",
      "Greatest Number is:  10\n"
     ]
    }
   ],
   "source": [
    "a = int(input(\"Enter Value of a: \"))\n",
    "b = int(input(\"Enter Value of b: \"))\n",
    "c = int(input(\"Enter Value of c: \"))\n",
    "\n",
    "if a>b and a>c:\n",
    "    print(\"Greatest Number is: \",a)\n",
    "    \n",
    "elif b>a and b>c:\n",
    "    print(\"Greatest Number is: \",b)\n",
    "    \n",
    "elif c>a and c>b:\n",
    "    print(\"Greatest Number is: \",c)"
   ]
  },
  {
   "cell_type": "code",
   "execution_count": null,
   "id": "398f167c",
   "metadata": {},
   "outputs": [],
   "source": []
  }
 ],
 "metadata": {
  "kernelspec": {
   "display_name": "Python 3 (ipykernel)",
   "language": "python",
   "name": "python3"
  },
  "language_info": {
   "codemirror_mode": {
    "name": "ipython",
    "version": 3
   },
   "file_extension": ".py",
   "mimetype": "text/x-python",
   "name": "python",
   "nbconvert_exporter": "python",
   "pygments_lexer": "ipython3",
   "version": "3.9.7"
  }
 },
 "nbformat": 4,
 "nbformat_minor": 5
}
