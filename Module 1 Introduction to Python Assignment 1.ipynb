{
 "cells": [
  {
   "cell_type": "code",
   "execution_count": 6,
   "id": "6693b760",
   "metadata": {},
   "outputs": [
    {
     "name": "stdout",
     "output_type": "stream",
     "text": [
      "[1, 4, 9, 16, 25, 36, 49, 64, 81, 100]\n"
     ]
    }
   ],
   "source": [
    "l = [x*x for x in range(11) if x>0]\n",
    "\n",
    "print(l)"
   ]
  },
  {
   "cell_type": "code",
   "execution_count": 8,
   "id": "d7a3d934",
   "metadata": {},
   "outputs": [
    {
     "name": "stdout",
     "output_type": "stream",
     "text": [
      "The year is leap year...!!!\n"
     ]
    }
   ],
   "source": [
    "def leapyear(Y):\n",
    "    if Y%4==0:\n",
    "        print(\"The year is leap year...!!!\")\n",
    "    \n",
    "    else:\n",
    "        print(\"Year is not a leap year...!!!\")\n",
    "        \n",
    "leapyear(2024)"
   ]
  },
  {
   "cell_type": "code",
   "execution_count": 9,
   "id": "5828bfff",
   "metadata": {},
   "outputs": [
    {
     "data": {
      "text/plain": [
       "[2, 4, 6, 8, 10]"
      ]
     },
     "execution_count": 9,
     "metadata": {},
     "output_type": "execute_result"
    }
   ],
   "source": [
    "a = [1,2,3,4,5,6,7,8,9,10]\n",
    "\n",
    "def evnnum(l):\n",
    "    l1 = []\n",
    "    for i in l:\n",
    "        if i>1:\n",
    "            if i%2==0:\n",
    "                l1.append(i)\n",
    "    \n",
    "    return l1\n",
    "\n",
    "evnnum(a)"
   ]
  },
  {
   "cell_type": "code",
   "execution_count": 11,
   "id": "d81c1951",
   "metadata": {},
   "outputs": [
    {
     "data": {
      "text/plain": [
       "[2, 5, 7, 9]"
      ]
     },
     "execution_count": 11,
     "metadata": {},
     "output_type": "execute_result"
    }
   ],
   "source": [
    "a = [1,2,3,4,5,6,7,8,9,10]\n",
    "b = [2,5,7,9,11,12,13,14,15]\n",
    "\n",
    "def check(l,m):\n",
    "    l1 = []\n",
    "    for i in l:\n",
    "        if i in m:\n",
    "            l1.append(i)\n",
    "            \n",
    "    return l1\n",
    "\n",
    "check(a,b)"
   ]
  },
  {
   "cell_type": "code",
   "execution_count": null,
   "id": "25d42888",
   "metadata": {},
   "outputs": [],
   "source": []
  }
 ],
 "metadata": {
  "kernelspec": {
   "display_name": "Python 3 (ipykernel)",
   "language": "python",
   "name": "python3"
  },
  "language_info": {
   "codemirror_mode": {
    "name": "ipython",
    "version": 3
   },
   "file_extension": ".py",
   "mimetype": "text/x-python",
   "name": "python",
   "nbconvert_exporter": "python",
   "pygments_lexer": "ipython3",
   "version": "3.9.7"
  }
 },
 "nbformat": 4,
 "nbformat_minor": 5
}
