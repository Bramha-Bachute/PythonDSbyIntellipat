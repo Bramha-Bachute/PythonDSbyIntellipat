{
 "cells": [
  {
   "cell_type": "code",
   "execution_count": 2,
   "id": "b623dddf",
   "metadata": {},
   "outputs": [
    {
     "name": "stdout",
     "output_type": "stream",
     "text": [
      "Enter Value of a: 5\n",
      "Enter Value of b: 10\n",
      "b is greater than a\n"
     ]
    }
   ],
   "source": [
    "a = int(input(\"Enter Value of a: \"))\n",
    "b = int(input(\"Enter Value of b: \"))\n",
    "\n",
    "if a>b:\n",
    "    print(\"a is greater than b\")\n",
    "    \n",
    "else:\n",
    "    print('b is greater than a')"
   ]
  },
  {
   "cell_type": "code",
   "execution_count": null,
   "id": "d7190309",
   "metadata": {},
   "outputs": [],
   "source": []
  }
 ],
 "metadata": {
  "kernelspec": {
   "display_name": "Python 3 (ipykernel)",
   "language": "python",
   "name": "python3"
  },
  "language_info": {
   "codemirror_mode": {
    "name": "ipython",
    "version": 3
   },
   "file_extension": ".py",
   "mimetype": "text/x-python",
   "name": "python",
   "nbconvert_exporter": "python",
   "pygments_lexer": "ipython3",
   "version": "3.9.7"
  }
 },
 "nbformat": 4,
 "nbformat_minor": 5
}
